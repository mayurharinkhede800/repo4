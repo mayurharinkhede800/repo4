{
 "cells": [
  {
   "cell_type": "code",
   "execution_count": 13,
   "id": "d930435b-ee11-47ce-b47b-acae075128dd",
   "metadata": {},
   "outputs": [
    {
     "name": "stdout",
     "output_type": "stream",
     "text": [
      "son:hii papa\n",
      "father:hi beta\n",
      "son:im going to school\n",
      "father:okay beta, i heared your results came out\n",
      "son:yes papa\n",
      "father:then what about the result\n",
      "son:lets play a game i will give the marks you tell me the perce\n",
      "father:exited\n"
     ]
    },
    {
     "name": "stdin",
     "output_type": "stream",
     "text": [
      "marks in telugu: 88\n",
      "marks in hindi: 98\n",
      "marks in english: 78\n",
      "marks in maths: 98\n",
      "marks in science: 65\n",
      "marks in social science: 78\n"
     ]
    },
    {
     "name": "stdout",
     "output_type": "stream",
     "text": [
      "telugi marks : 88\n",
      "hindi marks: 98\n",
      "english marks: 78\n",
      "maths marks: 98\n",
      "science marks: 65\n",
      "socail science: 78\n",
      " average : 85%\n"
     ]
    }
   ],
   "source": [
    "import math\n",
    "import time\n",
    "# those who are done all the meanwhile do below qn\n",
    "# story between papa and son\n",
    "\n",
    "# son: hi papa\n",
    "# fa : hi beta\n",
    "# son: im going to school\n",
    "# fa: okay beta, i heared your results came out\n",
    "# son: yes papa\n",
    "# fa: then what about the result\n",
    "# son: lets play a game i will give the marks you tell me the perce\n",
    "# fa: exited\n",
    "# Telugu= random\n",
    "# hindi\n",
    "# end\n",
    "# maths\n",
    "# sci\n",
    "# soc\n",
    "# avg\n",
    "# display the avg\n",
    "print('son:hii papa')\n",
    "time.sleep(2)\n",
    "print('father:hi beta')\n",
    "time.sleep(2)\n",
    "print('son:im going to school')\n",
    "time.sleep(2)\n",
    "print('father:okay beta, i heared your results came out')\n",
    "time.sleep(2)\n",
    "print('son:yes papa')\n",
    "time.sleep(2)\n",
    "print('father:then what about the result')\n",
    "time.sleep(2)\n",
    "print('son:lets play a game i will give the marks you tell me the perce')\n",
    "time.sleep(2)\n",
    "print('father:exited')\n",
    "time.sleep(2)\n",
    "\n",
    "tel = eval(input(\"marks in telugu:\"))\n",
    "\n",
    "hindi = eval(input(\"marks in hindi:\"))\n",
    "\n",
    "english = eval(input(\"marks in english:\"))\n",
    "\n",
    "maths = eval(input(\"marks in maths:\"))\n",
    "\n",
    "sci = eval(input(\"marks in science:\"))\n",
    "\n",
    "soc = eval(input(\"marks in social science:\"))  \n",
    "\n",
    "\n",
    "print(\"telugi marks :\",tel)\n",
    "print(\"hindi marks:\",hindi)\n",
    "print(\"english marks:\",english)\n",
    "print(\"maths marks:\",maths)\n",
    "print(\"science marks:\",sci)\n",
    "print(\"socail science:\",soc) \n",
    "\n",
    "avg = (tel+hindi+english+maths+sci+soc)/6\n",
    "avg1=math.ceil(avg)\n",
    "#print(f\"marks: telugu :{tel}, hindi:{hindi},english :{english},maths: {maths},science: {sci} ,socialScience: {soc}\")\n",
    "print(f\" average : {avg1}%\")"
   ]
  },
  {
   "cell_type": "code",
   "execution_count": 1,
   "id": "9e675641-41ad-4441-bba8-8a2228178c04",
   "metadata": {},
   "outputs": [
    {
     "data": {
      "text/plain": [
       "30"
      ]
     },
     "execution_count": 1,
     "metadata": {},
     "output_type": "execute_result"
    }
   ],
   "source": [
    "a=10\n",
    "b=20\n",
    "a+b"
   ]
  },
  {
   "cell_type": "code",
   "execution_count": 2,
   "id": "d616e8b9-eb38-4596-8158-ef727bd7675c",
   "metadata": {},
   "outputs": [
    {
     "data": {
      "text/plain": [
       "[1, 2, 3, 4, 5]"
      ]
     },
     "execution_count": 2,
     "metadata": {},
     "output_type": "execute_result"
    }
   ],
   "source": [
    "list1=[1,2,3,4,5]\n",
    "list1"
   ]
  },
  {
   "cell_type": "code",
   "execution_count": null,
   "id": "eb372f9c-fdbf-4e6d-a3f7-6d1d8474099e",
   "metadata": {},
   "outputs": [],
   "source": [
    "p=\"hi there im mayur here\""
   ]
  }
 ],
 "metadata": {
  "kernelspec": {
   "display_name": "Python 3 (ipykernel)",
   "language": "python",
   "name": "python3"
  },
  "language_info": {
   "codemirror_mode": {
    "name": "ipython",
    "version": 3
   },
   "file_extension": ".py",
   "mimetype": "text/x-python",
   "name": "python",
   "nbconvert_exporter": "python",
   "pygments_lexer": "ipython3",
   "version": "3.12.7"
  }
 },
 "nbformat": 4,
 "nbformat_minor": 5
}
